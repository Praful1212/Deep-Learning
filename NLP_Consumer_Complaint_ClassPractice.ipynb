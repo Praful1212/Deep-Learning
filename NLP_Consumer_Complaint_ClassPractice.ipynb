{
 "cells": [
  {
   "cell_type": "code",
   "execution_count": 93,
   "id": "530727db",
   "metadata": {},
   "outputs": [],
   "source": [
    "import nltk"
   ]
  },
  {
   "cell_type": "code",
   "execution_count": 94,
   "id": "e81f28de",
   "metadata": {},
   "outputs": [],
   "source": [
    "import numpy as np\n",
    "import pandas as pd"
   ]
  },
  {
   "cell_type": "code",
   "execution_count": 95,
   "id": "56e9273e",
   "metadata": {},
   "outputs": [],
   "source": [
    "df=pd.read_csv(r'C:\\Users\\DELL\\Downloads\\archive\\Consumer_Complaints.csv')"
   ]
  },
  {
   "cell_type": "code",
   "execution_count": 96,
   "id": "6a40b88d",
   "metadata": {},
   "outputs": [
    {
     "data": {
      "text/html": [
       "<div>\n",
       "<style scoped>\n",
       "    .dataframe tbody tr th:only-of-type {\n",
       "        vertical-align: middle;\n",
       "    }\n",
       "\n",
       "    .dataframe tbody tr th {\n",
       "        vertical-align: top;\n",
       "    }\n",
       "\n",
       "    .dataframe thead th {\n",
       "        text-align: right;\n",
       "    }\n",
       "</style>\n",
       "<table border=\"1\" class=\"dataframe\">\n",
       "  <thead>\n",
       "    <tr style=\"text-align: right;\">\n",
       "      <th></th>\n",
       "      <th>Date received</th>\n",
       "      <th>Product</th>\n",
       "      <th>Sub-product</th>\n",
       "      <th>Issue</th>\n",
       "      <th>Sub-issue</th>\n",
       "      <th>Consumer Complaint</th>\n",
       "      <th>Company Public Response</th>\n",
       "      <th>Company</th>\n",
       "      <th>State</th>\n",
       "      <th>ZIP code</th>\n",
       "      <th>Tags</th>\n",
       "      <th>Consumer consent provided?</th>\n",
       "      <th>Submitted via</th>\n",
       "      <th>Date Sent to Company</th>\n",
       "      <th>Company Response to Consumer</th>\n",
       "      <th>Timely response?</th>\n",
       "      <th>Consumer disputed?</th>\n",
       "      <th>Complaint ID</th>\n",
       "      <th>Unnamed: 18</th>\n",
       "    </tr>\n",
       "  </thead>\n",
       "  <tbody>\n",
       "    <tr>\n",
       "      <th>0</th>\n",
       "      <td>03-12-2014</td>\n",
       "      <td>Mortgage</td>\n",
       "      <td>Other mortgage</td>\n",
       "      <td>Loan modification,collection,foreclosure</td>\n",
       "      <td>NaN</td>\n",
       "      <td>NaN</td>\n",
       "      <td>NaN</td>\n",
       "      <td>M&amp;T BANK CORPORATION</td>\n",
       "      <td>MI</td>\n",
       "      <td>48382</td>\n",
       "      <td>NaN</td>\n",
       "      <td>NaN</td>\n",
       "      <td>Referral</td>\n",
       "      <td>03/17/2014</td>\n",
       "      <td>Closed with explanation</td>\n",
       "      <td>Yes</td>\n",
       "      <td>No</td>\n",
       "      <td>759217</td>\n",
       "      <td>NaN</td>\n",
       "    </tr>\n",
       "    <tr>\n",
       "      <th>1</th>\n",
       "      <td>10-01-2016</td>\n",
       "      <td>Credit reporting</td>\n",
       "      <td>NaN</td>\n",
       "      <td>Incorrect information on credit report</td>\n",
       "      <td>Account status</td>\n",
       "      <td>I have outdated information on my credit repor...</td>\n",
       "      <td>Company has responded to the consumer and the ...</td>\n",
       "      <td>TRANSUNION INTERMEDIATE HOLDINGS, INC.</td>\n",
       "      <td>AL</td>\n",
       "      <td>352XX</td>\n",
       "      <td>NaN</td>\n",
       "      <td>Consent provided</td>\n",
       "      <td>Web</td>\n",
       "      <td>10-05-2016</td>\n",
       "      <td>Closed with explanation</td>\n",
       "      <td>Yes</td>\n",
       "      <td>No</td>\n",
       "      <td>2141773</td>\n",
       "      <td>NaN</td>\n",
       "    </tr>\n",
       "    <tr>\n",
       "      <th>2</th>\n",
       "      <td>10/17/2016</td>\n",
       "      <td>Consumer Loan</td>\n",
       "      <td>Vehicle loan</td>\n",
       "      <td>Managing the loan or lease</td>\n",
       "      <td>NaN</td>\n",
       "      <td>I purchased a new car on XXXX XXXX. The car de...</td>\n",
       "      <td>NaN</td>\n",
       "      <td>CITIZENS FINANCIAL GROUP, INC.</td>\n",
       "      <td>PA</td>\n",
       "      <td>177XX</td>\n",
       "      <td>Older American</td>\n",
       "      <td>Consent provided</td>\n",
       "      <td>Web</td>\n",
       "      <td>10/20/2016</td>\n",
       "      <td>Closed with explanation</td>\n",
       "      <td>Yes</td>\n",
       "      <td>No</td>\n",
       "      <td>2163100</td>\n",
       "      <td>NaN</td>\n",
       "    </tr>\n",
       "    <tr>\n",
       "      <th>3</th>\n",
       "      <td>06-08-2014</td>\n",
       "      <td>Credit card</td>\n",
       "      <td>NaN</td>\n",
       "      <td>Bankruptcy</td>\n",
       "      <td>NaN</td>\n",
       "      <td>NaN</td>\n",
       "      <td>NaN</td>\n",
       "      <td>AMERICAN EXPRESS COMPANY</td>\n",
       "      <td>ID</td>\n",
       "      <td>83854</td>\n",
       "      <td>Older American</td>\n",
       "      <td>NaN</td>\n",
       "      <td>Web</td>\n",
       "      <td>06-10-2014</td>\n",
       "      <td>Closed with explanation</td>\n",
       "      <td>Yes</td>\n",
       "      <td>Yes</td>\n",
       "      <td>885638</td>\n",
       "      <td>NaN</td>\n",
       "    </tr>\n",
       "    <tr>\n",
       "      <th>4</th>\n",
       "      <td>09/13/2014</td>\n",
       "      <td>Debt collection</td>\n",
       "      <td>Credit card</td>\n",
       "      <td>Communication tactics</td>\n",
       "      <td>Frequent or repeated calls</td>\n",
       "      <td>NaN</td>\n",
       "      <td>NaN</td>\n",
       "      <td>CITIBANK, N.A.</td>\n",
       "      <td>VA</td>\n",
       "      <td>23233</td>\n",
       "      <td>NaN</td>\n",
       "      <td>NaN</td>\n",
       "      <td>Web</td>\n",
       "      <td>09/13/2014</td>\n",
       "      <td>Closed with explanation</td>\n",
       "      <td>Yes</td>\n",
       "      <td>Yes</td>\n",
       "      <td>1027760</td>\n",
       "      <td>NaN</td>\n",
       "    </tr>\n",
       "  </tbody>\n",
       "</table>\n",
       "</div>"
      ],
      "text/plain": [
       "  Date received           Product     Sub-product  \\\n",
       "0    03-12-2014          Mortgage  Other mortgage   \n",
       "1    10-01-2016  Credit reporting             NaN   \n",
       "2    10/17/2016     Consumer Loan    Vehicle loan   \n",
       "3    06-08-2014       Credit card             NaN   \n",
       "4    09/13/2014   Debt collection     Credit card   \n",
       "\n",
       "                                      Issue                   Sub-issue  \\\n",
       "0  Loan modification,collection,foreclosure                         NaN   \n",
       "1    Incorrect information on credit report              Account status   \n",
       "2                Managing the loan or lease                         NaN   \n",
       "3                                Bankruptcy                         NaN   \n",
       "4                     Communication tactics  Frequent or repeated calls   \n",
       "\n",
       "                                  Consumer Complaint  \\\n",
       "0                                                NaN   \n",
       "1  I have outdated information on my credit repor...   \n",
       "2  I purchased a new car on XXXX XXXX. The car de...   \n",
       "3                                                NaN   \n",
       "4                                                NaN   \n",
       "\n",
       "                             Company Public Response  \\\n",
       "0                                                NaN   \n",
       "1  Company has responded to the consumer and the ...   \n",
       "2                                                NaN   \n",
       "3                                                NaN   \n",
       "4                                                NaN   \n",
       "\n",
       "                                  Company State ZIP code            Tags  \\\n",
       "0                    M&T BANK CORPORATION    MI    48382             NaN   \n",
       "1  TRANSUNION INTERMEDIATE HOLDINGS, INC.    AL    352XX             NaN   \n",
       "2          CITIZENS FINANCIAL GROUP, INC.    PA    177XX  Older American   \n",
       "3                AMERICAN EXPRESS COMPANY    ID    83854  Older American   \n",
       "4                          CITIBANK, N.A.    VA    23233             NaN   \n",
       "\n",
       "  Consumer consent provided? Submitted via Date Sent to Company  \\\n",
       "0                        NaN      Referral           03/17/2014   \n",
       "1           Consent provided           Web           10-05-2016   \n",
       "2           Consent provided           Web           10/20/2016   \n",
       "3                        NaN           Web           06-10-2014   \n",
       "4                        NaN           Web           09/13/2014   \n",
       "\n",
       "  Company Response to Consumer Timely response? Consumer disputed?  \\\n",
       "0      Closed with explanation              Yes                 No   \n",
       "1      Closed with explanation              Yes                 No   \n",
       "2      Closed with explanation              Yes                 No   \n",
       "3      Closed with explanation              Yes                Yes   \n",
       "4      Closed with explanation              Yes                Yes   \n",
       "\n",
       "   Complaint ID  Unnamed: 18  \n",
       "0        759217          NaN  \n",
       "1       2141773          NaN  \n",
       "2       2163100          NaN  \n",
       "3        885638          NaN  \n",
       "4       1027760          NaN  "
      ]
     },
     "execution_count": 96,
     "metadata": {},
     "output_type": "execute_result"
    }
   ],
   "source": [
    "df.head()"
   ]
  },
  {
   "cell_type": "code",
   "execution_count": 97,
   "id": "f61d5e7a",
   "metadata": {},
   "outputs": [
    {
     "name": "stdout",
     "output_type": "stream",
     "text": [
      "<class 'pandas.core.frame.DataFrame'>\n",
      "RangeIndex: 1025010 entries, 0 to 1025009\n",
      "Data columns (total 19 columns):\n",
      " #   Column                        Non-Null Count    Dtype  \n",
      "---  ------                        --------------    -----  \n",
      " 0   Date received                 1025010 non-null  object \n",
      " 1   Product                       1025010 non-null  object \n",
      " 2   Sub-product                   789840 non-null   object \n",
      " 3   Issue                         1025010 non-null  object \n",
      " 4   Sub-issue                     528853 non-null   object \n",
      " 5   Consumer Complaint            277814 non-null   object \n",
      " 6   Company Public Response       318364 non-null   object \n",
      " 7   Company                       1025010 non-null  object \n",
      " 8   State                         1012650 non-null  object \n",
      " 9   ZIP code                      1008292 non-null  object \n",
      " 10  Tags                          141588 non-null   object \n",
      " 11  Consumer consent provided?    491911 non-null   object \n",
      " 12  Submitted via                 1025010 non-null  object \n",
      " 13  Date Sent to Company          1025010 non-null  object \n",
      " 14  Company Response to Consumer  1025007 non-null  object \n",
      " 15  Timely response?              1025010 non-null  object \n",
      " 16  Consumer disputed?            768554 non-null   object \n",
      " 17  Complaint ID                  1025010 non-null  int64  \n",
      " 18  Unnamed: 18                   0 non-null        float64\n",
      "dtypes: float64(1), int64(1), object(17)\n",
      "memory usage: 148.6+ MB\n"
     ]
    }
   ],
   "source": [
    "df.info()"
   ]
  },
  {
   "cell_type": "code",
   "execution_count": 98,
   "id": "74de5d79",
   "metadata": {},
   "outputs": [
    {
     "data": {
      "text/plain": [
       "0                                                        NaN\n",
       "1          I have outdated information on my credit repor...\n",
       "2          I purchased a new car on XXXX XXXX. The car de...\n",
       "3                                                        NaN\n",
       "4                                                        NaN\n",
       "                                 ...                        \n",
       "1025005                                                  NaN\n",
       "1025006    I had an account with XXXX in XX/XX/XXXX this ...\n",
       "1025007    I was contacted on XX/XX/XXXX email by XXXX fr...\n",
       "1025008                                                  NaN\n",
       "1025009    I had a debit that was included in my chapter ...\n",
       "Name: Consumer Complaint, Length: 1025010, dtype: object"
      ]
     },
     "execution_count": 98,
     "metadata": {},
     "output_type": "execute_result"
    }
   ],
   "source": [
    "df['Consumer Complaint']"
   ]
  },
  {
   "cell_type": "code",
   "execution_count": 99,
   "id": "2c31102e",
   "metadata": {},
   "outputs": [],
   "source": [
    "df['Consumer Complaint']=df['Consumer Complaint'].replace(np.nan,'0')"
   ]
  },
  {
   "cell_type": "code",
   "execution_count": 100,
   "id": "9072657d",
   "metadata": {},
   "outputs": [
    {
     "data": {
      "text/plain": [
       "0                                                                                                                                                                                                                                                                                                                                                                                                                                                                                                                                                                                                                                                                                                                                                                                                                                                                                                                                                                                                                                                                                                                                                                                                                                                                                                                                                                                                                                                                                                                                                                                                                                                                                                                                                                                                                                                                                                                                                                              747196\n",
       "There are many mistakes appear in my report without my understanding.                                                                                                                                                                                                                                                                                                                                                                                                                                                                                                                                                                                                                                                                                                                                                                                                                                                                                                                                                                                                                                                                                                                                                                                                                                                                                                                                                                                                                                                                                                                                                                                                                                                                                                                                                                                                                                                                                                             495\n",
       "Equifax mishandled my information which has led to a breach that puts myself and millions of others at potential risk. I am extremely disappointed with how equifax has handled reporting this breach. Very little was done to notify the public for nearly a month after the breach was detected. I received no email, letter, or phone call and instead had to discover it via social media.                                                                                                                                                                                                                                                                                                                                                                                                                                                                                                                                                                                                                                                                                                                                                                                                                                                                                                                                                                                                                                                                                                                                                                                                                                                                                                                                                                                                                                                                                                                                                                                    118\n",
       "I am filing this complaint because Experian has ignored my request to provide me with the documents that their company has on file that was used to verify the accounts I disputed. Being that they have gone past the 30 day mark and can not verify these accounts, under Section 611 ( 5 ) ( A ) of the FCRA - they are required to \" ... promptly delete all information which can not be verified '' that I have disputed. Please resolve this manner as soon as possible. Thank you.                                                                                                                                                                                                                                                                                                                                                                                                                                                                                                                                                                                                                                                                                                                                                                                                                                                                                                                                                                                                                                                                                                                                                                                                                                                                                                                                                                                                                                                                                        103\n",
       "I am filing this complaint because TransUnion has ignored my request to provide me with the documents that their company has on file that was used to verify the accounts I disputed. Being that they have gone past the 30 day mark and can not verify these accounts, under Section 611 ( 5 ) ( A ) of the FCRA - they are required to \" ... promptly delete all information which can not be verified '' that I have disputed. Please resolve this manner as soon as possible. Thank you.                                                                                                                                                                                                                                                                                                                                                                                                                                                                                                                                                                                                                                                                                                                                                                                                                                                                                                                                                                                                                                                                                                                                                                                                                                                                                                                                                                                                                                                                                       50\n",
       "                                                                                                                                                                                                                                                                                                                                                                                                                                                                                                                                                                                                                                                                                                                                                                                                                                                                                                                                                                                                                                                                                                                                                                                                                                                                                                                                                                                                                                                                                                                                                                                                                                                                                                                                                                                                                                                                                                                                                                                ...  \n",
       "I SUBMITTED TO TRANSUNION 3 TIMES AND THEY ARE NOT REMOVING AND KEEPING UPDATING THE STATUS DATES. ALL THREE COLLECTIONS ITEMS ARE INCORRECT AND NOT MINE. I 'VE REQUESTED PROOF FROM THEM AND NOTHING HAS BEEN SENT!                                                                                                                                                                                                                                                                                                                                                                                                                                                                                                                                                                                                                                                                                                                                                                                                                                                                                                                                                                                                                                                                                                                                                                                                                                                                                                                                                                                                                                                                                                                                                                                                                                                                                                                                                               1\n",
       "I 've been a customer with citizens for years I manage my account very well I have a high credit score. I logged in and saw past 7 weeks I been charged XXXX $ in fees but I ca n't figure out how and why. My math and log ins were spot on I did n't miss anything. I went into the bank called XXXX supervisors and they said I 'm lucky they gave me XXXX $ back which was XXXX of the XXXX charges I concurred. Yet NO ONE CAN PIN POINT EXACTLY WHY THIS HAPPENED!!! I 'm sickened by this as I DID NOT make a mathematical error or forget to log in XXXX They said \" we have next day funds available '' but then said maybe it because checks did n't clear but no one can tell me what checks did n't clear and when!!! I 'm looking for proof of what happened precisely and hitting blank stares and I dunno how to help u more. I feel I 'm being toyed with and need help this is robbery and a scam of the banks! They used to send letters but said now they do n't u have to look online so thy make it even easier for any mistakes to happen! This is not protecting ur money or interests it 's preying upon the weak or busy or unknowledgable and making them confused so they give in to this XXXX dollar scam! Please help                                                                                                                                                                                                                                                                                                                                                                                                                                                                                                                                                                                                                                                                                                                                  1\n",
       "I have a promotional credit card with Home Depot. They regularly send me offers and I decided to take out a promotional card offering 0 % interest for a home improvement project. I did this a few years ago and it worked out very well but this time they started charging me interest on what they call a revolving balance. It 's on the XXXX page of the bill with no reference on the first page and it started after months of paying the bill. I feel this is misrepresentative/false marketing and a way to get more interest from consumers.                                                                                                                                                                                                                                                                                                                                                                                                                                                                                                                                                                                                                                                                                                                                                                                                                                                                                                                                                                                                                                                                                                                                                                                                                                                                                                                                                                                                                             1\n",
       "Capital One sold an alleged account of mine to XXXX XXXX XXXX in the amount of {$600.00} stating that I had become delinquent on the alleged account in \" XX/XX/XXXX ''. After talking with XXXX XXXX whom bought the debt and getting no clear answers, I asked that the debt be verified. XXXX sent a letter back with account number \" XXXX '' as well as an amount of {$600.00} which stated I owed. \\nI personally contacted Capital One to find out more about this debt on XX/XX/XXXX and XX/XX/XXXX and was told that the last payment was made in \" XX/XX/XXXX '' for the amounts of {$15.00}, {$65.00} and {$50.00} all alleged made in XX/XX/XXXX. I let the agent know this is totally false since the bank account ending in \" XXXX '' which the alleged payments were debited from was permanently closed before XX/XX/XXXX. The agent stated that this account is mine and payments were made from this account. I agreed with him that account # XXXX was my account but no payments was ever made from this account in XX/XX/XXXX. Payments were however made from my bank account ending in XXXX to my original Capital One account ending in XXXX several years prior to XX/XX/XXXX. My original Capital One bill has been paid in full for years which clearly shows that on my credit report. \\nI was then told the payments were also debited from \" XXXX Bank '', which is a bank I have never done business with. After much conversation with the agent and getting nowhere I stated I would take other measures to get this false information off of my credit record. He then stated that \" XXXX XXXX '' know owns the debt. This may be true however ; \" Capital One '' mishandled vital information which is causing me undue stress because of their mismanagement of records. I am asking to please help me. This is not fair that every time my credit is pulled I am defamed by false information Capital One knowingly put in my records.         1\n",
       "I had a debit that was included in my chapter XXXX BK, almost two years letter this item showed on my credit reports under collection status for Midwest Recovery Systems. This dropped my credit score XXXX points. I called them and they said their client had n't informed them that it was included in BK, but the damage had already been done. It took them 30 days to remove this incorrectly put item on my credit reports. Its still showing up on my XXXX. I thought this was against the law for them to do that since I am protected by BK laws. They should be fined for this. I should sue.                                                                                                                                                                                                                                                                                                                                                                                                                                                                                                                                                                                                                                                                                                                                                                                                                                                                                                                                                                                                                                                                                                                                                                                                                                                                                                                                                                          1\n",
       "Name: Consumer Complaint, Length: 268392, dtype: int64"
      ]
     },
     "execution_count": 100,
     "metadata": {},
     "output_type": "execute_result"
    }
   ],
   "source": [
    "df['Consumer Complaint'].value_counts()"
   ]
  },
  {
   "cell_type": "code",
   "execution_count": 101,
   "id": "0a424c11",
   "metadata": {},
   "outputs": [
    {
     "data": {
      "text/plain": [
       "(1025010, 19)"
      ]
     },
     "execution_count": 101,
     "metadata": {},
     "output_type": "execute_result"
    }
   ],
   "source": [
    "df.shape"
   ]
  },
  {
   "cell_type": "code",
   "execution_count": 102,
   "id": "b6625339",
   "metadata": {},
   "outputs": [
    {
     "data": {
      "text/plain": [
       "0                  Mortgage\n",
       "1          Credit reporting\n",
       "2             Consumer Loan\n",
       "3               Credit card\n",
       "4           Debt collection\n",
       "                 ...       \n",
       "1025005     Debt collection\n",
       "1025006     Debt collection\n",
       "1025007            Mortgage\n",
       "1025008     Debt collection\n",
       "1025009     Debt collection\n",
       "Name: Product, Length: 1025010, dtype: object"
      ]
     },
     "execution_count": 102,
     "metadata": {},
     "output_type": "execute_result"
    }
   ],
   "source": [
    "df['Product']"
   ]
  },
  {
   "cell_type": "code",
   "execution_count": 103,
   "id": "a7d5ea74",
   "metadata": {},
   "outputs": [
    {
     "data": {
      "text/plain": [
       "Mortgage                                                                        254165\n",
       "Debt collection                                                                 196212\n",
       "Credit reporting                                                                140433\n",
       "Credit reporting, credit repair services, or other personal consumer reports    110756\n",
       "Credit card                                                                      89191\n",
       "Bank account or service                                                          86206\n",
       "Student loan                                                                     42969\n",
       "Consumer Loan                                                                    31606\n",
       "Credit card or prepaid card                                                      22913\n",
       "Checking or savings account                                                      18982\n",
       "Money transfer, virtual currency, or money service                                5785\n",
       "Vehicle loan or lease                                                             5628\n",
       "Payday loan                                                                       5546\n",
       "Money transfers                                                                   5354\n",
       "Payday loan, title loan, or personal loan                                         4367\n",
       "Prepaid card                                                                      3819\n",
       "Other financial service                                                           1060\n",
       "Virtual currency                                                                    18\n",
       "Name: Product, dtype: int64"
      ]
     },
     "execution_count": 103,
     "metadata": {},
     "output_type": "execute_result"
    }
   ],
   "source": [
    "df['Product'].value_counts()"
   ]
  },
  {
   "cell_type": "code",
   "execution_count": 104,
   "id": "cf945c59",
   "metadata": {},
   "outputs": [
    {
     "data": {
      "text/plain": [
       "array(['Mortgage', 'Credit reporting', 'Consumer Loan', 'Credit card',\n",
       "       'Debt collection', 'Student loan', 'Bank account or service',\n",
       "       'Other financial service', 'Prepaid card', 'Money transfers',\n",
       "       'Checking or savings account',\n",
       "       'Credit reporting, credit repair services, or other personal consumer reports',\n",
       "       'Payday loan',\n",
       "       'Money transfer, virtual currency, or money service',\n",
       "       'Credit card or prepaid card', 'Vehicle loan or lease',\n",
       "       'Payday loan, title loan, or personal loan', 'Virtual currency'],\n",
       "      dtype=object)"
      ]
     },
     "execution_count": 104,
     "metadata": {},
     "output_type": "execute_result"
    }
   ],
   "source": [
    "df['Product'].unique()"
   ]
  },
  {
   "cell_type": "code",
   "execution_count": 105,
   "id": "12ecb7f5",
   "metadata": {},
   "outputs": [
    {
     "data": {
      "text/plain": [
       "array(['0',\n",
       "       'I have outdated information on my credit report that I have previously disputed that has yet to be removed this information is more then seven years old and does not meet credit reporting requirements',\n",
       "       \"I purchased a new car on XXXX XXXX. The car dealer called Citizens Bank to get a 10 day payoff on my loan, good till XXXX XXXX. The dealer sent the check the next day. When I balanced my checkbook on XXXX XXXX. I noticed that Citizens bank had taken the automatic payment out of my checking account at XXXX XXXX XXXX Bank. I called Citizens and they stated that they did not close the loan until XXXX XXXX. ( stating that they did not receive the check until XXXX. XXXX. ). I told them that I did not believe that the check took that long to arrive. XXXX told me a check was issued to me for the amount overpaid, they deducted additional interest. Today ( XXXX XXXX, ) I called Citizens Bank again and talked to a supervisor named XXXX, because on XXXX XXXX. I received a letter that the loan had been paid in full ( dated XXXX, XXXX ) but no refund check was included. XXXX stated that they hold any over payment for 10 business days after the loan was satisfied and that my check would be mailed out on Wed. the XX/XX/XXXX.. I questioned her about the delay in posting the dealer payment and she first stated that sometimes it takes 3 or 4 business days to post, then she said they did not receive the check till XXXX XXXX I again told her that I did not believe this and asked where is my money. She then stated that they hold the over payment for 10 business days. I asked her why, and she simply said that is their policy. I asked her if I would receive interest on my money and she stated no. I believe that Citizens bank is deliberately delaying the posting of payment and the return of consumer 's money to make additional interest for the bank. If this is not illegal it should be, it does hurt the consumer and is not ethical. My amount of money lost is minimal but if they are doing this on thousands of car loans a month, then the additional interest earned for them could be staggering. I still have another car loan from Citizens Bank and I am afraid when I trade that car in another year I will run into the same problem again.\",\n",
       "       ...,\n",
       "       'I was contacted on XX/XX/XXXX email by XXXX from Caliber Home Loans to refinance my current loan with them. I replied on XX/XX/XXXX he gave me an acceptable estimate for refinancing my condo which was already mortgaged with Caliber. XXXX then proceeded to try to get me to refinance my primary home. He presented another favorable quote so I proceeded. We started the process and got both appraisals done and I provided all of the requested documents. The appraisals came back lower than the estimates so XXXX reworked the estimates and I approved and we moved on. This all happened before XXXX. I got a call from my first loan processor XXXX on XX/XX/XXXX herself and stating she was beginning the next phase of my loans. I have never heard another word from XXXX. I began trying to get a status of my loans on XX/XX/XXXX to allow extra time for the holidays. I called and emailed both XX/XX/XXXX and XX/XX/XXXX. Neither of them EVER replied or returned my phone calls. I tried emailing and calling multiple times every day. I called their main number but they were useless. I tried logging onto my account to check the status of my loans but I could n\\'t even access my account because of some IT problem they were having. I finally got someone on the XXXX number to give me someone else \\'s number. So I started calling XXXX who was supposedly XXXX boss but he never called me back either. On XX/XX/XXXX I got a call back from XXXX and he has been the most responsive but he has gone silent since the holidays. I was then assigned a new loan processor XX/XX/XXXX who basically started all over. I was told my new loan details after the appraisals came back lower were never entered into their system even though I had signed the new loans before XXXX. XXXX sent new estimates and my closing costs were higher even though I was borrowing less. XXXX said it was because my properties were entered as something other than condos and the condo closing costs are higher. He also refused to reimburse me for the appraisals. He said I would get \" credit for paying \\'\\' them at closing but I would not get reimbursed as XXXX had told me. He also is not honoring the lender credit I was given. I had locked in my interest rates which expired on XX/XX/2017. Supposedly Caliber extended the rate lock until XX/XX/XXXX but I have only received an email about the rate lock. I have not seen any official documentation. Late last week XXXX said there is a problem with the HOA on my primary property because of pending litigation but that it could still be handled and I could close on both properties if the right departments from Caliber was involved. I have not heard a word from XXXX since and the only communication I received at all was from XXXX \\'s boss yesterday in an informal email about my rate lock extension. \\nI know this is a lengthy story but here are my complaints : 1. Deceitful marketing practices. I am confident XXXX intentionally entered my properties into their system as something other than condos to make the deals more attractive in order to get me to refinance. The reason I am confident is because they already hold the loan on one of my properties. \\n2. Not honoring the agreement of reimbursing me for the appraisals and not giving me the lender credit as promised. \\n3. The total and complete lack of professionalism in their lack of communication with their customer, me. This is the absolute worst experience I have ever had with any institution wanting my business for anything.',\n",
       "       '0',\n",
       "       \"I had a debit that was included in my chapter XXXX BK, almost two years letter this item showed on my credit reports under collection status for Midwest Recovery Systems. This dropped my credit score XXXX points. I called them and they said their client had n't informed them that it was included in BK, but the damage had already been done. It took them 30 days to remove this incorrectly put item on my credit reports. Its still showing up on my XXXX. I thought this was against the law for them to do that since I am protected by BK laws. They should be fined for this. I should sue.\"],\n",
       "      dtype=object)"
      ]
     },
     "execution_count": 105,
     "metadata": {},
     "output_type": "execute_result"
    }
   ],
   "source": [
    "df['Consumer Complaint'].values"
   ]
  },
  {
   "cell_type": "code",
   "execution_count": 106,
   "id": "33e04e93",
   "metadata": {},
   "outputs": [],
   "source": [
    "from sklearn.model_selection import train_test_split"
   ]
  },
  {
   "cell_type": "code",
   "execution_count": 107,
   "id": "e785bdc8",
   "metadata": {},
   "outputs": [],
   "source": [
    "X_train,X_test,y_train,y_test=train_test_split(df['Consumer Complaint'].values,df['Product'].values,test_size=0.15,random_state=0)"
   ]
  },
  {
   "cell_type": "code",
   "execution_count": 108,
   "id": "6cf401c9",
   "metadata": {},
   "outputs": [
    {
     "name": "stdout",
     "output_type": "stream",
     "text": [
      "Training Occurences:871258\n"
     ]
    }
   ],
   "source": [
    "print('Training Occurences:{}'.format(X_train.shape[0]))"
   ]
  },
  {
   "cell_type": "code",
   "execution_count": 109,
   "id": "36133f2b",
   "metadata": {},
   "outputs": [
    {
     "name": "stdout",
     "output_type": "stream",
     "text": [
      "Testing occurences:153752\n"
     ]
    }
   ],
   "source": [
    "print('Testing occurences:{}'.format(X_test.shape[0]))"
   ]
  },
  {
   "cell_type": "code",
   "execution_count": 110,
   "id": "e1975b2e",
   "metadata": {},
   "outputs": [
    {
     "data": {
      "text/html": [
       "<div>\n",
       "<style scoped>\n",
       "    .dataframe tbody tr th:only-of-type {\n",
       "        vertical-align: middle;\n",
       "    }\n",
       "\n",
       "    .dataframe tbody tr th {\n",
       "        vertical-align: top;\n",
       "    }\n",
       "\n",
       "    .dataframe thead th {\n",
       "        text-align: right;\n",
       "    }\n",
       "</style>\n",
       "<table border=\"1\" class=\"dataframe\">\n",
       "  <thead>\n",
       "    <tr style=\"text-align: right;\">\n",
       "      <th></th>\n",
       "      <th>False</th>\n",
       "      <th>True</th>\n",
       "    </tr>\n",
       "  </thead>\n",
       "  <tbody>\n",
       "    <tr>\n",
       "      <th>Date received</th>\n",
       "      <td>1025010.0</td>\n",
       "      <td>NaN</td>\n",
       "    </tr>\n",
       "    <tr>\n",
       "      <th>Product</th>\n",
       "      <td>1025010.0</td>\n",
       "      <td>NaN</td>\n",
       "    </tr>\n",
       "    <tr>\n",
       "      <th>Sub-product</th>\n",
       "      <td>789840.0</td>\n",
       "      <td>235170.0</td>\n",
       "    </tr>\n",
       "    <tr>\n",
       "      <th>Issue</th>\n",
       "      <td>1025010.0</td>\n",
       "      <td>NaN</td>\n",
       "    </tr>\n",
       "    <tr>\n",
       "      <th>Sub-issue</th>\n",
       "      <td>528853.0</td>\n",
       "      <td>496157.0</td>\n",
       "    </tr>\n",
       "    <tr>\n",
       "      <th>Consumer Complaint</th>\n",
       "      <td>1025010.0</td>\n",
       "      <td>NaN</td>\n",
       "    </tr>\n",
       "    <tr>\n",
       "      <th>Company Public Response</th>\n",
       "      <td>318364.0</td>\n",
       "      <td>706646.0</td>\n",
       "    </tr>\n",
       "    <tr>\n",
       "      <th>Company</th>\n",
       "      <td>1025010.0</td>\n",
       "      <td>NaN</td>\n",
       "    </tr>\n",
       "    <tr>\n",
       "      <th>State</th>\n",
       "      <td>1012650.0</td>\n",
       "      <td>12360.0</td>\n",
       "    </tr>\n",
       "    <tr>\n",
       "      <th>ZIP code</th>\n",
       "      <td>1008292.0</td>\n",
       "      <td>16718.0</td>\n",
       "    </tr>\n",
       "    <tr>\n",
       "      <th>Tags</th>\n",
       "      <td>141588.0</td>\n",
       "      <td>883422.0</td>\n",
       "    </tr>\n",
       "    <tr>\n",
       "      <th>Consumer consent provided?</th>\n",
       "      <td>491911.0</td>\n",
       "      <td>533099.0</td>\n",
       "    </tr>\n",
       "    <tr>\n",
       "      <th>Submitted via</th>\n",
       "      <td>1025010.0</td>\n",
       "      <td>NaN</td>\n",
       "    </tr>\n",
       "    <tr>\n",
       "      <th>Date Sent to Company</th>\n",
       "      <td>1025010.0</td>\n",
       "      <td>NaN</td>\n",
       "    </tr>\n",
       "    <tr>\n",
       "      <th>Company Response to Consumer</th>\n",
       "      <td>1025007.0</td>\n",
       "      <td>3.0</td>\n",
       "    </tr>\n",
       "    <tr>\n",
       "      <th>Timely response?</th>\n",
       "      <td>1025010.0</td>\n",
       "      <td>NaN</td>\n",
       "    </tr>\n",
       "    <tr>\n",
       "      <th>Consumer disputed?</th>\n",
       "      <td>768554.0</td>\n",
       "      <td>256456.0</td>\n",
       "    </tr>\n",
       "    <tr>\n",
       "      <th>Complaint ID</th>\n",
       "      <td>1025010.0</td>\n",
       "      <td>NaN</td>\n",
       "    </tr>\n",
       "    <tr>\n",
       "      <th>Unnamed: 18</th>\n",
       "      <td>NaN</td>\n",
       "      <td>1025010.0</td>\n",
       "    </tr>\n",
       "  </tbody>\n",
       "</table>\n",
       "</div>"
      ],
      "text/plain": [
       "                                  False       True\n",
       "Date received                 1025010.0        NaN\n",
       "Product                       1025010.0        NaN\n",
       "Sub-product                    789840.0   235170.0\n",
       "Issue                         1025010.0        NaN\n",
       "Sub-issue                      528853.0   496157.0\n",
       "Consumer Complaint            1025010.0        NaN\n",
       "Company Public Response        318364.0   706646.0\n",
       "Company                       1025010.0        NaN\n",
       "State                         1012650.0    12360.0\n",
       "ZIP code                      1008292.0    16718.0\n",
       "Tags                           141588.0   883422.0\n",
       "Consumer consent provided?     491911.0   533099.0\n",
       "Submitted via                 1025010.0        NaN\n",
       "Date Sent to Company          1025010.0        NaN\n",
       "Company Response to Consumer  1025007.0        3.0\n",
       "Timely response?              1025010.0        NaN\n",
       "Consumer disputed?             768554.0   256456.0\n",
       "Complaint ID                  1025010.0        NaN\n",
       "Unnamed: 18                         NaN  1025010.0"
      ]
     },
     "execution_count": 110,
     "metadata": {},
     "output_type": "execute_result"
    }
   ],
   "source": [
    "df.isna().apply(pd.value_counts).T"
   ]
  },
  {
   "cell_type": "code",
   "execution_count": 111,
   "id": "ec4f5b88",
   "metadata": {},
   "outputs": [],
   "source": [
    "from sklearn.feature_extraction.text import TfidfVectorizer"
   ]
  },
  {
   "cell_type": "code",
   "execution_count": 112,
   "id": "c3a5b1da",
   "metadata": {},
   "outputs": [],
   "source": [
    "vectorizer=TfidfVectorizer()"
   ]
  },
  {
   "cell_type": "code",
   "execution_count": 113,
   "id": "0593895f",
   "metadata": {},
   "outputs": [
    {
     "data": {
      "text/plain": [
       "TfidfVectorizer()"
      ]
     },
     "execution_count": 113,
     "metadata": {},
     "output_type": "execute_result"
    }
   ],
   "source": [
    "vectorizer.fit(X_train)"
   ]
  },
  {
   "cell_type": "code",
   "execution_count": 114,
   "id": "07f1ceaa",
   "metadata": {},
   "outputs": [],
   "source": [
    "X_train=vectorizer.transform(X_train)\n",
    "X_test=vectorizer.transform(X_test)"
   ]
  },
  {
   "cell_type": "code",
   "execution_count": 115,
   "id": "acf23b6a",
   "metadata": {},
   "outputs": [
    {
     "data": {
      "text/plain": [
       "<871258x92764 sparse matrix of type '<class 'numpy.float64'>'\n",
       "\twith 21475233 stored elements in Compressed Sparse Row format>"
      ]
     },
     "execution_count": 115,
     "metadata": {},
     "output_type": "execute_result"
    }
   ],
   "source": [
    "X_train"
   ]
  },
  {
   "cell_type": "code",
   "execution_count": 116,
   "id": "fca83696",
   "metadata": {},
   "outputs": [
    {
     "data": {
      "text/plain": [
       "<153752x92764 sparse matrix of type '<class 'numpy.float64'>'\n",
       "\twith 3812732 stored elements in Compressed Sparse Row format>"
      ]
     },
     "execution_count": 116,
     "metadata": {},
     "output_type": "execute_result"
    }
   ],
   "source": [
    "X_test"
   ]
  },
  {
   "cell_type": "code",
   "execution_count": 127,
   "id": "c6cc38e3",
   "metadata": {},
   "outputs": [],
   "source": [
    "from sklearn.feature_selection import SelectKBest,chi2\n"
   ]
  },
  {
   "cell_type": "code",
   "execution_count": 128,
   "id": "e0daeaaf",
   "metadata": {},
   "outputs": [],
   "source": [
    "ch2=SelectKBest(chi2,k=5000)"
   ]
  },
  {
   "cell_type": "code",
   "execution_count": 131,
   "id": "919600a0",
   "metadata": {},
   "outputs": [],
   "source": [
    "from sklearn.naive_bayes import MultinomialNB"
   ]
  },
  {
   "cell_type": "code",
   "execution_count": 132,
   "id": "37ad057f",
   "metadata": {},
   "outputs": [],
   "source": [
    "model=MultinomialNB()"
   ]
  },
  {
   "cell_type": "code",
   "execution_count": 133,
   "id": "290bceb6",
   "metadata": {},
   "outputs": [
    {
     "data": {
      "text/plain": [
       "MultinomialNB()"
      ]
     },
     "execution_count": 133,
     "metadata": {},
     "output_type": "execute_result"
    }
   ],
   "source": [
    "model.fit(X_train,y_train)"
   ]
  },
  {
   "cell_type": "code",
   "execution_count": 134,
   "id": "32f732d4",
   "metadata": {},
   "outputs": [],
   "source": [
    "pred=model.predict(X_test)"
   ]
  },
  {
   "cell_type": "code",
   "execution_count": 137,
   "id": "15bef49a",
   "metadata": {},
   "outputs": [],
   "source": [
    "from sklearn.metrics import confusion_matrix,classification_report,accuracy_score"
   ]
  },
  {
   "cell_type": "code",
   "execution_count": 138,
   "id": "cf31c3de",
   "metadata": {},
   "outputs": [
    {
     "data": {
      "text/plain": [
       "0.3566847910921484"
      ]
     },
     "execution_count": 138,
     "metadata": {},
     "output_type": "execute_result"
    }
   ],
   "source": [
    "accuracy_score(y_test,pred)"
   ]
  },
  {
   "cell_type": "code",
   "execution_count": 142,
   "id": "cdba8821",
   "metadata": {},
   "outputs": [],
   "source": [
    "cf=confusion_matrix(y_test,pred)"
   ]
  },
  {
   "cell_type": "code",
   "execution_count": 143,
   "id": "5f580af9",
   "metadata": {},
   "outputs": [],
   "source": [
    "import matplotlib.pyplot as plt\n",
    "import seaborn as sns"
   ]
  },
  {
   "cell_type": "code",
   "execution_count": 145,
   "id": "5241d017",
   "metadata": {},
   "outputs": [
    {
     "data": {
      "image/png": "[encoded data removed]",
      "text/plain": [
       "<Figure size 1080x360 with 2 Axes>"
      ]
     },
     "metadata": {
      "needs_background": "light"
     },
     "output_type": "display_data"
    }
   ],
   "source": [
    "plt.figure(figsize=(15,5))\n",
    "sns.heatmap(cf,cmap='Blues',annot=True,fmt='g')\n",
    "plt.show()"
   ]
  },
  {
   "cell_type": "code",
   "execution_count": 148,
   "id": "ecea1bc4",
   "metadata": {},
   "outputs": [
    {
     "name": "stderr",
     "output_type": "stream",
     "text": [
      "C:\\Users\\DELL\\anaconda-3\\lib\\site-packages\\sklearn\\metrics\\_classification.py:1248: UndefinedMetricWarning: Precision and F-score are ill-defined and being set to 0.0 in labels with no predicted samples. Use `zero_division` parameter to control this behavior.\n",
      "  _warn_prf(average, modifier, msg_start, len(result))\n",
      "C:\\Users\\DELL\\anaconda-3\\lib\\site-packages\\sklearn\\metrics\\_classification.py:1248: UndefinedMetricWarning: Precision and F-score are ill-defined and being set to 0.0 in labels with no predicted samples. Use `zero_division` parameter to control this behavior.\n",
      "  _warn_prf(average, modifier, msg_start, len(result))\n"
     ]
    },
    {
     "name": "stdout",
     "output_type": "stream",
     "text": [
      "                                                                              precision    recall  f1-score   support\n",
      "\n",
      "                                                     Bank account or service       0.66      0.04      0.08     12855\n",
      "                                                 Checking or savings account       0.00      0.00      0.00      2788\n",
      "                                                               Consumer Loan       0.29      0.00      0.00      4636\n",
      "                                                                 Credit card       0.58      0.06      0.10     13317\n",
      "                                                 Credit card or prepaid card       0.00      0.00      0.00      3533\n",
      "                                                            Credit reporting       0.71      0.06      0.11     21121\n",
      "Credit reporting, credit repair services, or other personal consumer reports       0.61      0.28      0.39     16594\n",
      "                                                             Debt collection       0.55      0.30      0.39     29510\n",
      "                          Money transfer, virtual currency, or money service       1.00      0.00      0.00       904\n",
      "                                                             Money transfers       0.00      0.00      0.00       779\n",
      "                                                                    Mortgage       0.30      1.00      0.47     38279\n",
      "                                                     Other financial service       0.00      0.00      0.00       137\n",
      "                                                                 Payday loan       0.00      0.00      0.00       813\n",
      "                                   Payday loan, title loan, or personal loan       0.00      0.00      0.00       639\n",
      "                                                                Prepaid card       0.00      0.00      0.00       544\n",
      "                                                                Student loan       0.96      0.10      0.19      6469\n",
      "                                                       Vehicle loan or lease       0.00      0.00      0.00       831\n",
      "                                                            Virtual currency       0.00      0.00      0.00         3\n",
      "\n",
      "                                                                    accuracy                           0.36    153752\n",
      "                                                                   macro avg       0.31      0.10      0.10    153752\n",
      "                                                                weighted avg       0.50      0.36      0.27    153752\n",
      "\n"
     ]
    },
    {
     "name": "stderr",
     "output_type": "stream",
     "text": [
      "C:\\Users\\DELL\\anaconda-3\\lib\\site-packages\\sklearn\\metrics\\_classification.py:1248: UndefinedMetricWarning: Precision and F-score are ill-defined and being set to 0.0 in labels with no predicted samples. Use `zero_division` parameter to control this behavior.\n",
      "  _warn_prf(average, modifier, msg_start, len(result))\n"
     ]
    }
   ],
   "source": [
    "print(classification_report(y_test,pred))"
   ]
  },
  {
   "cell_type": "code",
   "execution_count": null,
   "id": "46cc9710",
   "metadata": {},
   "outputs": [],
   "source": []
  }
 ],
 "metadata": {
  "kernelspec": {
   "display_name": "Python 3",
   "language": "python",
   "name": "python3"
  },
  "language_info": {
   "codemirror_mode": {
    "name": "ipython",
    "version": 3
   },
   "file_extension": ".py",
   "mimetype": "text/x-python",
   "name": "python",
   "nbconvert_exporter": "python",
   "pygments_lexer": "ipython3",
   "version": "3.8.8"
  }
 },
 "nbformat": 4,
 "nbformat_minor": 5
}
